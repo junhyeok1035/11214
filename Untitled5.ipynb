{
  "nbformat": 4,
  "nbformat_minor": 0,
  "metadata": {
    "colab": {
      "provenance": [],
      "authorship_tag": "ABX9TyNJk09cljDs+ZbZ2+Ut3NQH",
      "include_colab_link": true
    },
    "kernelspec": {
      "name": "python3",
      "display_name": "Python 3"
    },
    "language_info": {
      "name": "python"
    }
  },
  "cells": [
    {
      "cell_type": "markdown",
      "metadata": {
        "id": "view-in-github",
        "colab_type": "text"
      },
      "source": [
        "<a href=\"https://colab.research.google.com/github/junhyeok1035/11214/blob/main/Untitled5.ipynb\" target=\"_parent\"><img src=\"https://colab.research.google.com/assets/colab-badge.svg\" alt=\"Open In Colab\"/></a>"
      ]
    },
    {
      "cell_type": "code",
      "execution_count": 12,
      "metadata": {
        "colab": {
          "base_uri": "https://localhost:8080/"
        },
        "id": "VXEgfn17z0Fi",
        "outputId": "cc770ad2-8560-4bd3-c101-c8d87af8e871"
      },
      "outputs": [
        {
          "output_type": "stream",
          "name": "stdout",
          "text": [
            "입력1\n",
            "입력2\n",
            "A가이겼습니다\n"
          ]
        }
      ],
      "source": [
        "A=int(input(\"입력\"))\n",
        "B=int(input(\"입력\"))\n",
        "if A>B :\n",
        "  print(\"A가이겼습니다\")\n",
        "else :\n",
        "  print(\"B가이겼습니다\")"
      ]
    }
  ]
}