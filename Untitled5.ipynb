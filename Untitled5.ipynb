{
  "nbformat": 4,
  "nbformat_minor": 0,
  "metadata": {
    "colab": {
      "provenance": [],
      "authorship_tag": "ABX9TyMOOsNDXMoPpmWPtnd7ZIOc",
      "include_colab_link": true
    },
    "kernelspec": {
      "name": "python3",
      "display_name": "Python 3"
    },
    "language_info": {
      "name": "python"
    }
  },
  "cells": [
    {
      "cell_type": "markdown",
      "metadata": {
        "id": "view-in-github",
        "colab_type": "text"
      },
      "source": [
        "<a href=\"https://colab.research.google.com/github/junhyeok1035/11214/blob/main/Untitled5.ipynb\" target=\"_parent\"><img src=\"https://colab.research.google.com/assets/colab-badge.svg\" alt=\"Open In Colab\"/></a>"
      ]
    },
    {
      "cell_type": "code",
      "execution_count": 24,
      "metadata": {
        "colab": {
          "base_uri": "https://localhost:8080/"
        },
        "id": "VXEgfn17z0Fi",
        "outputId": "2ef7bde6-4dc0-45a2-a2b9-2263269a8a6e"
      },
      "outputs": [
        {
          "output_type": "stream",
          "name": "stdout",
          "text": [
            "1\n",
            "3\n",
            "b가이겼습니다\n"
          ]
        }
      ],
      "source": [
        "\n",
        "\n",
        "a=int(input())\n",
        "b=int(input())\n",
        "if a>b:\n",
        "   if a==3 and b==1:\n",
        "     print(\"b가이겼습니다\")\n",
        "   else: \n",
        "      print(\"a가이겼습니다\")\n",
        "elif a<b:\n",
        "    if a==3 and b==1:\n",
        "      print(\"a가이겼습니다\")\n",
        "    else:\n",
        "     print(\"b가이겼습니다\")\n",
        "else:\n",
        "   print(\"무승부\")    "
      ]
    }
  ]
}